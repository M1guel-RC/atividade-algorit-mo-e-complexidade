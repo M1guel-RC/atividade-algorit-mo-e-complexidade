{
  "nbformat": 4,
  "nbformat_minor": 0,
  "metadata": {
    "colab": {
      "provenance": [],
      "authorship_tag": "ABX9TyPotmWVHTefTFwFGp6pTMtz",
      "include_colab_link": true
    },
    "kernelspec": {
      "name": "python3",
      "display_name": "Python 3"
    },
    "language_info": {
      "name": "python"
    }
  },
  "cells": [
    {
      "cell_type": "markdown",
      "metadata": {
        "id": "view-in-github",
        "colab_type": "text"
      },
      "source": [
        "<a href=\"https://colab.research.google.com/github/M1guel-RC/atividade-algorit-mo-e-complexidade/blob/main/Atividade.ipynb\" target=\"_parent\"><img src=\"https://colab.research.google.com/assets/colab-badge.svg\" alt=\"Open In Colab\"/></a>"
      ]
    },
    {
      "cell_type": "code",
      "execution_count": 4,
      "metadata": {
        "colab": {
          "base_uri": "https://localhost:8080/"
        },
        "id": "SRj-4tg7pDKd",
        "outputId": "23cd2145-f4e8-4a5d-9d8e-b102e7180b04"
      },
      "outputs": [
        {
          "name": "stdout",
          "output_type": "stream",
          "text": [
            "Digite um número real: 100\n",
            "\n",
            "1 - Quadrado\n",
            "2 - Cubo\n",
            "3 - Raiz quadrada\n",
            "4 - Potência (informar expoente)\n",
            "5 - Sair\n",
            "Escolha: 1\n",
            "10000.0\n",
            "\n",
            "1 - Quadrado\n",
            "2 - Cubo\n",
            "3 - Raiz quadrada\n",
            "4 - Potência (informar expoente)\n",
            "5 - Sair\n",
            "Escolha: 2\n",
            "1000000.0\n",
            "\n",
            "1 - Quadrado\n",
            "2 - Cubo\n",
            "3 - Raiz quadrada\n",
            "4 - Potência (informar expoente)\n",
            "5 - Sair\n",
            "Escolha: 3\n",
            "10.0\n",
            "\n",
            "1 - Quadrado\n",
            "2 - Cubo\n",
            "3 - Raiz quadrada\n",
            "4 - Potência (informar expoente)\n",
            "5 - Sair\n",
            "Escolha: 4\n",
            "Digite o expoente: 2\n",
            "10000.0\n",
            "\n",
            "1 - Quadrado\n",
            "2 - Cubo\n",
            "3 - Raiz quadrada\n",
            "4 - Potência (informar expoente)\n",
            "5 - Sair\n",
            "Escolha: 5\n"
          ]
        }
      ],
      "source": [
        "import math  # Importa a biblioteca 'math' para usar a função de raiz quadrada (sqrt)\n",
        "\n",
        "# ---- Funções de operações matemáticas ----\n",
        "def quadrado(x):\n",
        "    # Recebe um número x e retorna x ao quadrado\n",
        "    return x ** 2\n",
        "\n",
        "def cubo(x):\n",
        "    # Recebe um número x e retorna x ao cubo\n",
        "    return x ** 3\n",
        "\n",
        "def raiz_quadrada(x):\n",
        "    # Recebe um número x e retorna a raiz quadrada de x (para x >= 0)\n",
        "    # Obs: usamos math.sqrt porque é a forma correta/precisa de calcular a raiz\n",
        "    return math.sqrt(x)\n",
        "\n",
        "def potencia(base, expoente):\n",
        "    # Recebe a base e o expoente e retorna base elevada ao expoente\n",
        "    return base ** expoente\n",
        "\n",
        "# ---- Programa principal ----\n",
        "def main():\n",
        "    # 1) Solicita um número real ao usuário\n",
        "    #    Usamos float para aceitar números com casas decimais\n",
        "    numero = float(input(\"Digite um número real: \"))\n",
        "\n",
        "    # 2) Inicia um laço infinito para manter o menu se repetindo\n",
        "    #    O laço só termina quando o usuário escolher a opção de sair\n",
        "    while True:\n",
        "        # 3) Mostra o menu de opções a cada repetição\n",
        "        print(\"\\n1 - Quadrado\")\n",
        "        print(\"2 - Cubo\")\n",
        "        print(\"3 - Raiz quadrada\")\n",
        "        print(\"4 - Potência (informar expoente)\")\n",
        "        print(\"5 - Sair\")\n",
        "\n",
        "        # 4) Lê a opção escolhida pelo usuário como string\n",
        "        opcao = input(\"Escolha: \")\n",
        "\n",
        "        # 5) Verifica qual foi a opção digitada e executa a função correspondente\n",
        "        if opcao == \"1\":\n",
        "            # Chama a função quadrado passando o número informado\n",
        "            print(quadrado(numero))\n",
        "\n",
        "        elif opcao == \"2\":\n",
        "            # Chama a função cubo passando o número informado\n",
        "            print(cubo(numero))\n",
        "\n",
        "        elif opcao == \"3\":\n",
        "            # Para raiz quadrada, precisamos garantir que o número não seja negativo\n",
        "            if numero >= 0:\n",
        "                # Chama a função raiz_quadrada e imprime o resultado\n",
        "                print(raiz_quadrada(numero))\n",
        "            else:\n",
        "                # Mensagem de erro quando não existe raiz real para número negativo\n",
        "                print(\"Número negativo não tem raiz real.\")\n",
        "\n",
        "        elif opcao == \"4\":\n",
        "            # Pede o expoente ao usuário (também como float)\n",
        "            expo = float(input(\"Digite o expoente: \"))\n",
        "            # Chama a função potencia com base = numero e expoente = expo\n",
        "            print(potencia(numero, expo))\n",
        "\n",
        "        elif opcao == \"5\":\n",
        "            # 6) Encerra o laço (e o programa) quando o usuário escolhe sair\n",
        "            break\n",
        "\n",
        "        else:\n",
        "            # 7) Caso o usuário digite algo fora das opções, mostramos aviso\n",
        "            print(\"Opção inválida.\")\n",
        "\n",
        "# 8) Chama a função main para iniciar o programa quando o arquivo é executado\n",
        "main()\n"
      ]
    }
  ]
}